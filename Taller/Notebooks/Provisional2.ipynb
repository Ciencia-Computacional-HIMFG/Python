{
 "cells": [
  {
   "cell_type": "code",
   "execution_count": 21,
   "id": "3154ba9d-6124-4423-b28c-7119f451c1d8",
   "metadata": {},
   "outputs": [],
   "source": [
    "import numpy as np\n",
    "from matplotlib import pyplot as plt"
   ]
  },
  {
   "cell_type": "code",
   "execution_count": 2,
   "id": "37403eef-a9e9-4fce-afc6-02e6c3dd218f",
   "metadata": {},
   "outputs": [
    {
     "data": {
      "text/plain": [
       "int"
      ]
     },
     "execution_count": 2,
     "metadata": {},
     "output_type": "execute_result"
    }
   ],
   "source": [
    "int"
   ]
  },
  {
   "cell_type": "code",
   "execution_count": 3,
   "id": "6eb33def-4c3a-4df5-b170-59cc81d6badc",
   "metadata": {},
   "outputs": [],
   "source": [
    "n_rows = 100\n",
    "n_cols = 300\n",
    "\n",
    "mundo = np.zeros((n_rows, n_cols), dtype=int)"
   ]
  },
  {
   "cell_type": "code",
   "execution_count": 4,
   "id": "6d05f64e-5ffc-42e2-b47e-18f2f4e1c8ce",
   "metadata": {},
   "outputs": [],
   "source": [
    "ocupacion = 0.3"
   ]
  },
  {
   "cell_type": "code",
   "execution_count": 5,
   "id": "75de22fe-c1d6-4982-a3f6-f7e9eb7ba933",
   "metadata": {},
   "outputs": [],
   "source": [
    "n_persons = ocupacion * n_cols * n_rows"
   ]
  },
  {
   "cell_type": "code",
   "execution_count": 6,
   "id": "7a4406e4-1971-4c2d-96f4-3745ba820b84",
   "metadata": {},
   "outputs": [
    {
     "data": {
      "text/plain": [
       "9000.0"
      ]
     },
     "execution_count": 6,
     "metadata": {},
     "output_type": "execute_result"
    }
   ],
   "source": [
    "n_persons"
   ]
  },
  {
   "cell_type": "code",
   "execution_count": 7,
   "id": "b35393fe-c32a-473c-89aa-5d7b8d597e6d",
   "metadata": {},
   "outputs": [],
   "source": [
    "random_rows = np.random.randint(0, n_rows, 9000, dtype=int)\n",
    "random_cols = np.random.randint(0, n_cols, 9000, dtype=int)"
   ]
  },
  {
   "cell_type": "code",
   "execution_count": 8,
   "id": "a4cd492e-de74-4756-8f8e-8d5801a48d52",
   "metadata": {},
   "outputs": [],
   "source": [
    "for ii, jj in zip(random_rows, random_cols):\n",
    "    mundo[ii,jj]=1"
   ]
  },
  {
   "cell_type": "code",
   "execution_count": 20,
   "id": "debff2dd-711d-4a0d-90b9-43eca40f87fb",
   "metadata": {},
   "outputs": [
    {
     "data": {
      "text/plain": [
       "array([0, 0, 0, 1, 1, 0, 0])"
      ]
     },
     "execution_count": 20,
     "metadata": {},
     "output_type": "execute_result"
    }
   ],
   "source": [
    "mundo[0,16:30:2]"
   ]
  },
  {
   "cell_type": "code",
   "execution_count": 42,
   "id": "c3ae85d6-1a3b-40fe-b09a-8e16e9d6c572",
   "metadata": {},
   "outputs": [
    {
     "data": {
      "text/plain": [
       "<matplotlib.image.AxesImage at 0x71a90c8b6190>"
      ]
     },
     "execution_count": 42,
     "metadata": {},
     "output_type": "execute_result"
    },
    {
     "data": {
      "image/png": "[encoded data removed]",
      "text/plain": [
       "<Figure size 1440x480 with 1 Axes>"
      ]
     },
     "metadata": {},
     "output_type": "display_data"
    }
   ],
   "source": [
    "plt.matshow(mundo)"
   ]
  },
  {
   "cell_type": "code",
   "execution_count": 34,
   "id": "ddbca4a5-f10b-4336-ae9a-f2adada24e84",
   "metadata": {},
   "outputs": [],
   "source": [
    "lista = np.argwhere(mundo[:,0]==1)"
   ]
  },
  {
   "cell_type": "code",
   "execution_count": 35,
   "id": "5a1417f2-523a-48a9-9a09-354b01e5a9ac",
   "metadata": {},
   "outputs": [
    {
     "data": {
      "text/plain": [
       "array([[ 4],\n",
       "       [ 5],\n",
       "       [ 8],\n",
       "       [ 9],\n",
       "       [23],\n",
       "       [31],\n",
       "       [40],\n",
       "       [42],\n",
       "       [43],\n",
       "       [47],\n",
       "       [49],\n",
       "       [50],\n",
       "       [66],\n",
       "       [68],\n",
       "       [70],\n",
       "       [71],\n",
       "       [72],\n",
       "       [73],\n",
       "       [78],\n",
       "       [79],\n",
       "       [81],\n",
       "       [85],\n",
       "       [86],\n",
       "       [87],\n",
       "       [88],\n",
       "       [90],\n",
       "       [96],\n",
       "       [97]])"
      ]
     },
     "execution_count": 35,
     "metadata": {},
     "output_type": "execute_result"
    }
   ],
   "source": [
    "lista"
   ]
  },
  {
   "cell_type": "code",
   "execution_count": 36,
   "id": "f7b44e11-9245-45d2-ac9e-ced5d74ce39c",
   "metadata": {},
   "outputs": [],
   "source": [
    "np.random.shuffle(lista)"
   ]
  },
  {
   "cell_type": "code",
   "execution_count": 40,
   "id": "44ce770d-9a68-4eba-b0e4-5f655fe201c6",
   "metadata": {},
   "outputs": [
    {
     "data": {
      "text/plain": [
       "np.int64(90)"
      ]
     },
     "execution_count": 40,
     "metadata": {},
     "output_type": "execute_result"
    }
   ],
   "source": [
    "lista[0,0]"
   ]
  },
  {
   "cell_type": "code",
   "execution_count": 41,
   "id": "3baff514-54fa-4c28-8da3-740208674552",
   "metadata": {},
   "outputs": [],
   "source": [
    "mundo[lista[0,0],0]=2"
   ]
  },
  {
   "cell_type": "code",
   "execution_count": 44,
   "id": "8344e8e0-85d8-4887-b827-38e4f5f488ab",
   "metadata": {},
   "outputs": [
    {
     "name": "stdout",
     "output_type": "stream",
     "text": [
      "The Zen of Python, by Tim Peters\n",
      "\n",
      "Beautiful is better than ugly.\n",
      "Explicit is better than implicit.\n",
      "Simple is better than complex.\n",
      "Complex is better than complicated.\n",
      "Flat is better than nested.\n",
      "Sparse is better than dense.\n",
      "Readability counts.\n",
      "Special cases aren't special enough to break the rules.\n",
      "Although practicality beats purity.\n",
      "Errors should never pass silently.\n",
      "Unless explicitly silenced.\n",
      "In the face of ambiguity, refuse the temptation to guess.\n",
      "There should be one-- and preferably only one --obvious way to do it.\n",
      "Although that way may not be obvious at first unless you're Dutch.\n",
      "Now is better than never.\n",
      "Although never is often better than *right* now.\n",
      "If the implementation is hard to explain, it's a bad idea.\n",
      "If the implementation is easy to explain, it may be a good idea.\n",
      "Namespaces are one honking great idea -- let's do more of those!\n"
     ]
    }
   ],
   "source": [
    "import this"
   ]
  },
  {
   "cell_type": "code",
   "execution_count": null,
   "id": "87f60b2a-a69a-4b5d-94f4-ddfdd7248cbf",
   "metadata": {},
   "outputs": [],
   "source": []
  }
 ],
 "metadata": {
  "kernelspec": {
   "display_name": "Python 3 (ipykernel)",
   "language": "python",
   "name": "python3"
  },
  "language_info": {
   "codemirror_mode": {
    "name": "ipython",
    "version": 3
   },
   "file_extension": ".py",
   "mimetype": "text/x-python",
   "name": "python",
   "nbconvert_exporter": "python",
   "pygments_lexer": "ipython3",
   "version": "3.11.10"
  }
 },
 "nbformat": 4,
 "nbformat_minor": 5
}

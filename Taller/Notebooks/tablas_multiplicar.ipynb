{
 "cells": [
  {
   "cell_type": "markdown",
   "id": "99830e89-794c-43d6-bc6d-d61cb2f067ef",
   "metadata": {},
   "source": [
    "# Las tablas de multiplicar"
   ]
  },
  {
   "cell_type": "markdown",
   "id": "ff7b149d-8b91-4096-a263-dba5adfa76d0",
   "metadata": {},
   "source": [
    "Este notebook nos sirvió para revisar e introducir los siguientes conceptos:\n",
    "- Definición de funciones\n",
    "- Manejo de cadenas de caracteres\n",
    "- El bucle `for ... in ...`\n",
    "- El manejo de ficheros (específicamente la escritura)"
   ]
  },
  {
   "cell_type": "markdown",
   "id": "be36a1bf-c898-4e0d-a4f6-478f3583141a",
   "metadata": {},
   "source": [
    "## Objetivo\n",
    "\n",
    "Escribir en distintos ficheros las tablas de multiplicar del 1 al 9.\n",
    "\n",
    "## Resolución\n",
    "\n",
    "Definimos una función para guardar en un fichero la tabla de multiplicar de un número dado.\n",
    "\n",
    "La función tiene dos argumentos de entrada:\n",
    "- `prefix`: el prefijo que compondrá el nombre del fichero (p.ej.: \"tabla\")\n",
    "- `numero`: el número entero que define la tabla de multiplicar"
   ]
  },
  {
   "cell_type": "code",
   "execution_count": 1,
   "id": "a88059c0-e39f-4fbb-a727-1da0f7720824",
   "metadata": {},
   "outputs": [],
   "source": [
    "def tabla_multiplicar(prefix, numero):\n",
    "\n",
    "    filename = prefix+'_'+str(numero)+'.oup'\n",
    "    \n",
    "    fff = open(filename, 'w')\n",
    "    \n",
    "    for ii in [1,2,3,4,5,6,7,8,9]:\n",
    "        linea = str(ii)+' x '+str(numero)+' = '+str(ii*numero)+'\\n'\n",
    "        fff.write(linea)\n",
    "\n",
    "    fff.close()"
   ]
  },
  {
   "cell_type": "markdown",
   "id": "28120b66-7928-4f8b-81d8-8d43df29c4d1",
   "metadata": {},
   "source": [
    "Hacemos ahora otro bucle que itera el argumento de entrada `numero` tomando los valores definidos en una lista de números enteros. En cada iteración, la función definida anteriormente es invocada escribiendo la correspondiente tabla de multiplicar en un fichero llamado `tabla_x.oup` (donde x es el número entero)."
   ]
  },
  {
   "cell_type": "code",
   "execution_count": 2,
   "id": "aba3035f-e7b7-42c8-8f5f-1cc7c7a685af",
   "metadata": {},
   "outputs": [],
   "source": [
    "for jj in [1,2,3,4,5,6,7,8,9]:\n",
    "    tabla_multiplicar('tabla',jj)"
   ]
  },
  {
   "cell_type": "code",
   "execution_count": null,
   "id": "62e73279-ef4d-430d-9c06-b131ce31620d",
   "metadata": {},
   "outputs": [],
   "source": []
  }
 ],
 "metadata": {
  "kernelspec": {
   "display_name": "Python 3 (ipykernel)",
   "language": "python",
   "name": "python3"
  },
  "language_info": {
   "codemirror_mode": {
    "name": "ipython",
    "version": 3
   },
   "file_extension": ".py",
   "mimetype": "text/x-python",
   "name": "python",
   "nbconvert_exporter": "python",
   "pygments_lexer": "ipython3",
   "version": "3.11.10"
  }
 },
 "nbformat": 4,
 "nbformat_minor": 5
}

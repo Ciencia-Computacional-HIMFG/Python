{
 "cells": [
  {
   "cell_type": "markdown",
   "id": "c0a582ab-3728-460f-b081-b4a134a379f7",
   "metadata": {},
   "source": [
    "# class Persona:\n",
    "\n",
    "    piernas=2\n",
    "    brazos=2\n",
    "    \n",
    "    def __init__(self, nombre, edad):\n",
    "\n",
    "        self.mi_nombre=nombre\n",
    "        self.mi_edad=edad\n",
    "\n",
    "    def dame_numero_extremidades(self):\n",
    "\n",
    "        return self.brazos + self.piernas\n",
    "\n",
    "    def me_presento(self, idioma='español'):\n",
    "\n",
    "        if idioma=='español':\n",
    "\n",
    "            print('Mi nombre es', self.mi_nombre)\n",
    "\n",
    "        elif idioma=='ingles':\n",
    "\n",
    "            print('My name is', self.mi_nombre)\n",
    "\n",
    "        else:\n",
    "\n",
    "            print('no hablo', idioma)\n",
    "\n",
    "jugador_1 = Persona('Lola', 35)\n",
    "jugador_2 = Persona('Juan', 45)"
   ]
  },
  {
   "cell_type": "code",
   "execution_count": 3,
   "id": "efa5215d-685c-4ca4-9f8c-fcf5a1ddac4e",
   "metadata": {},
   "outputs": [
    {
     "data": {
      "text/plain": [
       "__main__.Persona"
      ]
     },
     "execution_count": 3,
     "metadata": {},
     "output_type": "execute_result"
    }
   ],
   "source": [
    "type(jugador_1)"
   ]
  },
  {
   "cell_type": "code",
   "execution_count": 4,
   "id": "d2c60146-667d-4e49-a47d-6e6e55243b93",
   "metadata": {},
   "outputs": [
    {
     "data": {
      "text/plain": [
       "35"
      ]
     },
     "execution_count": 4,
     "metadata": {},
     "output_type": "execute_result"
    }
   ],
   "source": [
    "jugador_1.mi_edad"
   ]
  },
  {
   "cell_type": "code",
   "execution_count": 5,
   "id": "4edc9f5d-778c-4a3b-ae85-bda756124ba4",
   "metadata": {},
   "outputs": [
    {
     "name": "stdout",
     "output_type": "stream",
     "text": [
      "no hablo coreano\n"
     ]
    }
   ],
   "source": [
    "jugador_1.me_presento(idioma='coreano')"
   ]
  },
  {
   "cell_type": "code",
   "execution_count": null,
   "id": "7754dadf-f37e-464b-99a1-e63ec9d964b4",
   "metadata": {},
   "outputs": [],
   "source": [
    "jugador_2.me_presento()"
   ]
  },
  {
   "cell_type": "code",
   "execution_count": 11,
   "id": "64b87e7c-5e3b-4332-9d41-2d1e766f37ec",
   "metadata": {},
   "outputs": [],
   "source": [
    "mapa = [['a','b'],['c','d']]"
   ]
  },
  {
   "cell_type": "code",
   "execution_count": 33,
   "id": "44e6037a-1ff9-4036-ba0b-13c2f21f9fe8",
   "metadata": {},
   "outputs": [
    {
     "data": {
      "text/plain": [
       "2"
      ]
     },
     "execution_count": 33,
     "metadata": {},
     "output_type": "execute_result"
    }
   ],
   "source": [
    "len(mapa[1])"
   ]
  },
  {
   "cell_type": "code",
   "execution_count": 24,
   "id": "64657d93-03c7-4a40-915c-e7279a5963c9",
   "metadata": {},
   "outputs": [
    {
     "ename": "TypeError",
     "evalue": "list indices must be integers or slices, not list",
     "output_type": "error",
     "traceback": [
      "\u001b[0;31m---------------------------------------------------------------------------\u001b[0m",
      "\u001b[0;31mTypeError\u001b[0m                                 Traceback (most recent call last)",
      "Cell \u001b[0;32mIn[24], line 1\u001b[0m\n\u001b[0;32m----> 1\u001b[0m \u001b[43mmapa\u001b[49m\u001b[43m[\u001b[49m\u001b[38;5;241;43m1\u001b[39;49m\u001b[43m]\u001b[49m\u001b[43m[\u001b[49m\u001b[43m[\u001b[49m\u001b[38;5;241;43m0\u001b[39;49m\u001b[43m,\u001b[49m\u001b[38;5;241;43m1\u001b[39;49m\u001b[43m]\u001b[49m\u001b[43m]\u001b[49m\n",
      "\u001b[0;31mTypeError\u001b[0m: list indices must be integers or slices, not list"
     ]
    }
   ],
   "source": [
    "mapa[1][[0,1]]"
   ]
  },
  {
   "cell_type": "code",
   "execution_count": 25,
   "id": "971d95a0-db85-45b9-9044-149d25b58b92",
   "metadata": {},
   "outputs": [],
   "source": [
    "import numpy as np"
   ]
  },
  {
   "cell_type": "code",
   "execution_count": 43,
   "id": "4669a2e7-ae8d-4ed0-a3f2-718c86e61389",
   "metadata": {},
   "outputs": [],
   "source": [
    "matriz=np.zeros([3,3])"
   ]
  },
  {
   "cell_type": "code",
   "execution_count": 44,
   "id": "d0f81ad4-6440-4cac-9b25-088ab8ba5465",
   "metadata": {},
   "outputs": [
    {
     "data": {
      "text/plain": [
       "dtype('float64')"
      ]
     },
     "execution_count": 44,
     "metadata": {},
     "output_type": "execute_result"
    }
   ],
   "source": [
    "matriz.dtype"
   ]
  },
  {
   "cell_type": "code",
   "execution_count": 45,
   "id": "ab7f7257-fc08-449b-986f-fb8b6c14e57a",
   "metadata": {},
   "outputs": [
    {
     "data": {
      "text/plain": [
       "(3, 3)"
      ]
     },
     "execution_count": 45,
     "metadata": {},
     "output_type": "execute_result"
    }
   ],
   "source": [
    "matriz.shape"
   ]
  },
  {
   "cell_type": "code",
   "execution_count": 46,
   "id": "29bfcac8-8f3f-4324-9fe3-3a7d66872f8b",
   "metadata": {},
   "outputs": [],
   "source": [
    "matriz[0,0]=34\n",
    "matriz[0,2]=10\n",
    "matriz[1,2]=5\n"
   ]
  },
  {
   "cell_type": "code",
   "execution_count": 47,
   "id": "333eebd7-363b-4cdb-bcd8-1145c32240d8",
   "metadata": {},
   "outputs": [
    {
     "data": {
      "text/plain": [
       "array([[34.,  0., 10.],\n",
       "       [ 0.,  0.,  5.],\n",
       "       [ 0.,  0.,  0.]])"
      ]
     },
     "execution_count": 47,
     "metadata": {},
     "output_type": "execute_result"
    }
   ],
   "source": [
    "matriz"
   ]
  },
  {
   "cell_type": "code",
   "execution_count": 54,
   "id": "99cb39e8-5b7e-41eb-983d-293fd579d40c",
   "metadata": {},
   "outputs": [
    {
     "data": {
      "text/plain": [
       "array([34.,  0.,  0.])"
      ]
     },
     "execution_count": 54,
     "metadata": {},
     "output_type": "execute_result"
    }
   ],
   "source": [
    "matriz.diagonal()"
   ]
  },
  {
   "cell_type": "code",
   "execution_count": 42,
   "id": "c97f5b2d-b74c-464f-9722-2e87711c9e1f",
   "metadata": {},
   "outputs": [
    {
     "data": {
      "text/plain": [
       "array([[34., 10.],\n",
       "       [ 0.,  5.]])"
      ]
     },
     "execution_count": 42,
     "metadata": {},
     "output_type": "execute_result"
    }
   ],
   "source": [
    "matriz[:,:]"
   ]
  },
  {
   "cell_type": "code",
   "execution_count": null,
   "id": "4b661f80-bb1e-4a89-be60-dd9bbcccadce",
   "metadata": {},
   "outputs": [],
   "source": [
    "mi_matriz = np.zeros((3,4), dtype=int)"
   ]
  },
  {
   "cell_type": "code",
   "execution_count": null,
   "id": "055ae2c7-556a-46be-989f-32bdce1623f6",
   "metadata": {},
   "outputs": [],
   "source": [
    "type(mi_matriz)"
   ]
  },
  {
   "cell_type": "code",
   "execution_count": null,
   "id": "68a11790-ba53-46fb-beeb-03b3af71afb5",
   "metadata": {},
   "outputs": [],
   "source": [
    "mi_matriz"
   ]
  },
  {
   "cell_type": "code",
   "execution_count": null,
   "id": "ec723831-d5f6-4462-9239-3248a5e968a0",
   "metadata": {},
   "outputs": [],
   "source": []
  }
 ],
 "metadata": {
  "kernelspec": {
   "display_name": "Python 3 (ipykernel)",
   "language": "python",
   "name": "python3"
  },
  "language_info": {
   "codemirror_mode": {
    "name": "ipython",
    "version": 3
   },
   "file_extension": ".py",
   "mimetype": "text/x-python",
   "name": "python",
   "nbconvert_exporter": "python",
   "pygments_lexer": "ipython3",
   "version": "3.11.10"
  }
 },
 "nbformat": 4,
 "nbformat_minor": 5
}
